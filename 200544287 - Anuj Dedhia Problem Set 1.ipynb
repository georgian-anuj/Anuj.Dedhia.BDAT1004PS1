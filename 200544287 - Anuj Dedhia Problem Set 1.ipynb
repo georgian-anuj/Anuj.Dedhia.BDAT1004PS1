{
 "cells": [
  {
   "cell_type": "markdown",
   "id": "ffe61941",
   "metadata": {},
   "source": [
    "### ---------------------------------- Question 1 ----------------------------------\n",
    "\n",
    "What data type is each of the following (evaluate where necessary)?"
   ]
  },
  {
   "cell_type": "code",
   "execution_count": 1,
   "id": "340f8cc1",
   "metadata": {},
   "outputs": [
    {
     "name": "stdout",
     "output_type": "stream",
     "text": [
      "Data Type of 5:\t\t <class 'int'>\n",
      "Data Type of 5.0:\t <class 'float'>\n",
      "Data Type of 5 > 1:\t <class 'bool'>\n",
      "Data Type of '5':\t <class 'str'>\n",
      "Data Type of 5 * 2:\t <class 'int'>\n",
      "Data Type of '5' * 2:\t <class 'str'>\n",
      "Data Type of '5' + '2':\t <class 'str'>\n",
      "Data Type of 5 / 2:\t <class 'float'>\n",
      "Data Type of 5 % 2:\t <class 'int'>\n",
      "Data Type of {5, 2, 1}:\t <class 'set'>\n",
      "Data Type of 5 == 3:\t <class 'bool'>\n",
      "Data Type of Pi:\t <class 'float'>\n"
     ]
    }
   ],
   "source": [
    "print(\"Data Type of 5:\\t\\t\",type(5))\n",
    "print(\"Data Type of 5.0:\\t\",type(5.0))\n",
    "print(\"Data Type of 5 > 1:\\t\",type(5 > 1 ))\n",
    "print(\"Data Type of '5':\\t\",type('5'))\n",
    "print(\"Data Type of 5 * 2:\\t\",type(5 * 2))  \n",
    "print(\"Data Type of '5' * 2:\\t\",type('5' * 2)) \n",
    "print(\"Data Type of '5' + '2':\\t\",type('5' + '2'))  \n",
    "print(\"Data Type of 5 / 2:\\t\",type(5 / 2))\n",
    "print(\"Data Type of 5 % 2:\\t\",type(5 % 2 ))\n",
    "print(\"Data Type of {5, 2, 1}:\\t\",type({5, 2, 1}))  \n",
    "print(\"Data Type of 5 == 3:\\t\",type(5 == 3 ))\n",
    "print(\"Data Type of Pi:\\t\",type(22/7))"
   ]
  },
  {
   "cell_type": "markdown",
   "id": "78a1c561",
   "metadata": {},
   "source": [
    "### ---------------------------------- Question 2 ----------------------------------\n",
    "\n",
    "##### Question 2.a\n",
    "How many letters are there in 'Supercalifragilisticexpialidocious'?"
   ]
  },
  {
   "cell_type": "code",
   "execution_count": 2,
   "id": "fe0e41fa",
   "metadata": {},
   "outputs": [
    {
     "name": "stdout",
     "output_type": "stream",
     "text": [
      "Length of the string is  34\n"
     ]
    }
   ],
   "source": [
    "#-------------------\n",
    "#Question 2A\n",
    "#-------------------\n",
    "question = \"Supercalifragilisticexpialidocious\"\n",
    "print(\"Length of the string is \",len(question))"
   ]
  },
  {
   "cell_type": "markdown",
   "id": "e7bf0d75",
   "metadata": {},
   "source": [
    "##### Question 2.b\n",
    "Does 'Supercalifragilisticexpialidocious' contain 'ice' as a substring?"
   ]
  },
  {
   "cell_type": "code",
   "execution_count": 3,
   "id": "609f55ea",
   "metadata": {},
   "outputs": [
    {
     "name": "stdout",
     "output_type": "stream",
     "text": [
      "Supercalifragilisticexpialidocious contains 'ice' as substring:  True\n"
     ]
    }
   ],
   "source": [
    "#-------------------\n",
    "#Question 2B\n",
    "#-------------------\n",
    "question = \"Supercalifragilisticexpialidocious\"\n",
    "print(question, \"contains 'ice' as substring: \",'ice' in question)\n"
   ]
  },
  {
   "cell_type": "markdown",
   "id": "f0799765",
   "metadata": {},
   "source": [
    "##### Question 2.c\n",
    "Which of the following words is the longest:\n",
    "Supercalifragilisticexpialidocious, Honorificabilitudinitatibus, or Bababadalgharaghtakamminarronnkonn?"
   ]
  },
  {
   "cell_type": "code",
   "execution_count": 19,
   "id": "a0f59964",
   "metadata": {},
   "outputs": [
    {
     "name": "stdout",
     "output_type": "stream",
     "text": [
      "Supercalifragilisticexpialidocious and Bababadalgharaghtakamminarronnkonn both are the longest\n"
     ]
    }
   ],
   "source": [
    "#-------------------\n",
    "#Question 2C\n",
    "#-------------------\n",
    "str1 = \"Supercalifragilisticexpialidocious\"\n",
    "str2 = \"Honorificabilitudinitatibus\"\n",
    "str3 = \"Bababadalgharaghtakamminarronnkonn\"\n",
    "if(len(str1) == len(str2) == len(str3)):\n",
    "    print(\"all are equal\")\n",
    "else:\n",
    "    if(len(str1)>len(str2)):\n",
    "        if(len(str1)<len(str3)):\n",
    "            print(str3+\" is the longest\")\n",
    "        elif(len(str1)>len(str3)):\n",
    "            print(str1+\" is the longest\")\n",
    "        else:\n",
    "            print(str1+\" and \"+str3+\" both are the longest\")\n",
    "    elif(len(str1) == len(str2)):\n",
    "        if(len(str1)<len(str3)):\n",
    "            print(str3+\" is the longest\")\n",
    "        else:\n",
    "            print(str1+\" and \"+str2+\" both are the longest\")        \n",
    "    else:\n",
    "        if(len(str2)<len(str3)):\n",
    "            print(str3+\" is the longest\")\n",
    "        elif(len(str2)>len(str3)):\n",
    "            print(str2+\" is the longest\")\n",
    "        else:\n",
    "            print(str2+\" and \"+str3+\" both are the longest\")\n"
   ]
  },
  {
   "cell_type": "markdown",
   "id": "259bb53f",
   "metadata": {},
   "source": [
    "##### Question 2.d\n",
    "Which composer comes first in the dictionary: 'Berlioz', 'Borodin', 'Brian','Bartok', 'Bellini', 'Buxtehude', 'Bernstein'. Which one comes last?"
   ]
  },
  {
   "cell_type": "code",
   "execution_count": 5,
   "id": "0e32182c",
   "metadata": {},
   "outputs": [
    {
     "name": "stdout",
     "output_type": "stream",
     "text": [
      "First Composer will be:  Bartok\n",
      "Last Composer will be:  Buxtehude\n"
     ]
    }
   ],
   "source": [
    "#-------------------\n",
    "#Question 2D\n",
    "#-------------------\n",
    "composers = ['Berlioz', 'Borodin', 'Brian', 'Bartok', 'Bellini', 'Buxtehude', 'Bernstein']\n",
    "composers.sort()\n",
    "print(\"First Composer will be: \",composers[0])\n",
    "print(\"Last Composer will be: \",composers[-1])"
   ]
  },
  {
   "cell_type": "markdown",
   "id": "58436953",
   "metadata": {},
   "source": [
    "### ---------------------------------- Question 3 ----------------------------------\n",
    "\n",
    "Implement function triangleArea(a,b,c) that takes as input the lengths of the 3\n",
    "sides of a triangle and returns the area of the triangle. By Heron's formula, the area\n",
    "of a triangle with side lengths a, b, and c is\n",
    "s(s - a)(s -b)(s -c), where\n",
    "s = (a +b + c) /2."
   ]
  },
  {
   "cell_type": "code",
   "execution_count": 6,
   "id": "cf4663be",
   "metadata": {},
   "outputs": [
    {
     "name": "stdout",
     "output_type": "stream",
     "text": [
      "Enter Side 1: 5\n",
      "Enter Side 2: 4\n",
      "Enter Side 3: 3\n",
      "Area of the Triangle with sides: 5, 4, 3 is 6.0\n"
     ]
    }
   ],
   "source": [
    "import math\n",
    "def triangleArea(a,b,c):\n",
    "    s = (a+b+c)/2\n",
    "    print(f\"Area of the Triangle with sides: {a}, {b}, {c} is {math.sqrt(s*(s-a)*(s-b)*(s-c))}\")\n",
    "    \n",
    "side = []\n",
    "for i in range(3):\n",
    "    element = int(input(\"Enter Side \"+str(i+1)+\": \"))\n",
    "    side.append(element)\n",
    "triangleArea(side[0],side[1],side[2])"
   ]
  },
  {
   "cell_type": "markdown",
   "id": "38260679",
   "metadata": {},
   "source": [
    "### ---------------------------------- Question 4 ----------------------------------\n",
    "\n",
    "Write a program in python to separate odd and even integers in separate arrays."
   ]
  },
  {
   "cell_type": "code",
   "execution_count": 20,
   "id": "d981ac2b",
   "metadata": {},
   "outputs": [
    {
     "name": "stdout",
     "output_type": "stream",
     "text": [
      "Enter the number of elements to be stored in the array: 5\n",
      "Input 5 elements in the array: \n",
      "Element - 1: 13\n",
      "Element - 2: 15\n",
      "Element - 3: 16\n",
      "Element - 4: 18\n",
      "Element - 5: 11\n",
      "\n",
      "Odd Elements are\n",
      "13 15 11 \n",
      "Even Elements are\n",
      "16 18 "
     ]
    }
   ],
   "source": [
    "evenNumbers = []\n",
    "oddNumbers = []\n",
    "noOfElements = input(\"Enter the number of elements to be stored in the array: \")\n",
    "print(\"Input %s elements in the array: \"%noOfElements)\n",
    "for i in range(int(noOfElements)):\n",
    "    element = int(input(\"Element - \"+str(i+1)+\": \"))\n",
    "    if(element%2==1):\n",
    "        oddNumbers.append(element)\n",
    "    else:\n",
    "        evenNumbers.append(element)\n",
    "        \n",
    "print(\"\\nOdd Elements are\")\n",
    "for i in oddNumbers: print(i, end=' ')\n",
    "print(\"\\nEven Elements are\")\n",
    "for i in evenNumbers: print(i, end=' ')"
   ]
  },
  {
   "cell_type": "markdown",
   "id": "864ce270",
   "metadata": {},
   "source": [
    "### ---------------------------------- Question 5 ----------------------------------\n",
    "\n",
    "##### Question 5.a\n",
    "Write a function inside(x,y,x1,y1,x2,y2) that returns True or False depending on whether the point (x,y) lies in the rectangle with lower left corner (x1,y1) and upper right corner (x2,y2)."
   ]
  },
  {
   "cell_type": "code",
   "execution_count": 8,
   "id": "57482595",
   "metadata": {},
   "outputs": [
    {
     "name": "stdout",
     "output_type": "stream",
     "text": [
      "True\n",
      "False\n",
      "Expression's result is: False\n"
     ]
    }
   ],
   "source": [
    "#---------------\n",
    "#Question 5 a\n",
    "#---------------\n",
    "def inside(x,y,x1,y1,x2,y2):\n",
    "    if(x>=x1 and x<=x2):\n",
    "        if(y>=y1 and y<=y2):\n",
    "            print(True)\n",
    "        else:\n",
    "            print(False)\n",
    "    else:\n",
    "        print(False)\n",
    "        \n",
    "inside(1,1,0,0,2,3)\n",
    "inside(-1,-1,0,0,2,3)\n",
    "\n"
   ]
  },
  {
   "cell_type": "markdown",
   "id": "5665825e",
   "metadata": {},
   "source": [
    "##### Question 5.b\n",
    "Use function inside() from part a. to write an expression that tests whether the point (1,1) lies in both of the following rectangles: one with lower left corner (0.3, 0.5) and upper right corner (1.1, 0.7) and the other with lower left corner (0.5, 0.2) and upper right corner (1.1, 2)."
   ]
  },
  {
   "cell_type": "code",
   "execution_count": 21,
   "id": "3876e2b0",
   "metadata": {},
   "outputs": [
    {
     "name": "stdout",
     "output_type": "stream",
     "text": [
      "Expression's result is: False\n"
     ]
    }
   ],
   "source": [
    "#---------------\n",
    "#Question 5b\n",
    "#---------------\n",
    "print(\"Expression's result is:\", end=' ')\n",
    "inside(1,1,0.3,0.5,1.1,0.7) and inside(-1,-1,0.5,0.2,1.1,2)"
   ]
  },
  {
   "cell_type": "markdown",
   "id": "4e29d7b6",
   "metadata": {},
   "source": [
    "### ---------------------------------- Question 6 ----------------------------------\n",
    "\n",
    "You can turn a word into pig-Latin using the following two rules (simplified):\n",
    "1. If the word starts with a consonant, move that letter to the end and append 'ay'. For example, 'happy' becomes 'appyhay' and 'pencil' becomes 'encilpay'.\n",
    "2. If the word starts with a vowel, simply append 'way' to the end of the word. For example, 'enter' becomes 'enterway' and 'other' becomes 'otherway' . \n",
    "\n",
    "For our purposes, there are 5 vowels: a, e, i, o, u (so we count y as a consonant).\n",
    "Write a function pig() that takes a word (i.e., a string) as input and returns its pig-Latin form. Your function should still work if the input word contains upper case characters. Your output should always be lower case however."
   ]
  },
  {
   "cell_type": "code",
   "execution_count": 10,
   "id": "3ecc4d93",
   "metadata": {},
   "outputs": [
    {
     "name": "stdout",
     "output_type": "stream",
     "text": [
      "Enter the word you wish to convert: Hello\n",
      "Pig-Latin conversion of \"Hello\" will be \"ellohay\"\n"
     ]
    }
   ],
   "source": [
    "def pig(word):\n",
    "    vowels = ['a','e','i','o','u']\n",
    "    newword = word.lower()\n",
    "    if(newword[0] in vowels):\n",
    "        newword += \"way\"\n",
    "    else:\n",
    "        newword = newword[1:]+newword[0]+\"ay\"\n",
    "    print(\"Pig-Latin conversion of \\\"\"+word+\"\\\" will be \\\"\"+newword+\"\\\"\")\n",
    "    \n",
    "word = input(\"Enter the word you wish to convert: \")\n",
    "pig(word)"
   ]
  },
  {
   "cell_type": "markdown",
   "id": "4b870245",
   "metadata": {},
   "source": [
    "### ---------------------------------- Question 7 ----------------------------------\n",
    "\n",
    "File bloodtype1.txt records blood-types of patients (A, B, AB, O or OO) at a clinic. Write a function bldcount() that reads the file with name name and reports (i.e., prints) how many patients there are in each bloodtype."
   ]
  },
  {
   "cell_type": "code",
   "execution_count": 11,
   "id": "920fa63b",
   "metadata": {},
   "outputs": [
    {
     "name": "stdout",
     "output_type": "stream",
     "text": [
      "There are 15 patients of blood type A\n",
      "There is 1 patients of blood type B\n",
      "There are 13 patients of blood type AB\n",
      "There are 15 patients of blood type O\n",
      "There are 0 patients of blood type OO\n"
     ]
    }
   ],
   "source": [
    "def bldcount(fileName):\n",
    "    inputFile = open(fileName)\n",
    "    bloodGroups = ['A','B','AB','O','OO']\n",
    "    fileContent = inputFile.read().split()\n",
    "    for i in bloodGroups:\n",
    "        report = fileContent.count(i)\n",
    "        if(report == 1):\n",
    "            print(\"There is 1 patients of blood type %s\"%i)\n",
    "        else:\n",
    "            print(\"There are %s patients of blood type %s\"%(report,i))\n",
    "    \n",
    "bldcount('bloodtype1.txt')"
   ]
  },
  {
   "cell_type": "markdown",
   "id": "9de3e231",
   "metadata": {},
   "source": [
    "### ---------------------------------- Question 8 ----------------------------------\n",
    "\n",
    "Write a function curconv() that takes as input:\n",
    "1. a currency represented using a string (e.g., 'JPY' for the Japanese Yen or 'EUR' for the Euro)\n",
    "2. an amount\n",
    "\n",
    "and then converts and returns the amount in US dollars."
   ]
  },
  {
   "cell_type": "code",
   "execution_count": 12,
   "id": "192ec02b",
   "metadata": {},
   "outputs": [
    {
     "name": "stdout",
     "output_type": "stream",
     "text": [
      "Enter the Currency you want to convert to USD: AUD\n",
      "Enter the amount to be converted: 50\n",
      "AUD 50 will be USD 51.725785\n"
     ]
    }
   ],
   "source": [
    "def curconv(currencyCode, amountToConvert):\n",
    "    currencyRate = {}\n",
    "    currencyRateFile = open(\"currencies.txt\")\n",
    "    fileContent = currencyRateFile.read().split(\"\\n\")\n",
    "    for i in fileContent:\n",
    "        currencyInfo = i.split()\n",
    "        currencyRate[currencyInfo[0]]=float(currencyInfo[1])\n",
    "    if(currencyCode in currencyRate):\n",
    "        print(\"%s %s will be USD %s\"%(currencyCode,amountToConvert,currencyRate[currencyCode]*float(amountToConvert)))\n",
    "    else:\n",
    "        print(\"Currency Rate not available/Invalid Currency\")\n",
    "        \n",
    "\n",
    "currencyCode = input(\"Enter the Currency you want to convert to USD: \")\n",
    "amountToConvert = input(\"Enter the amount to be converted: \")\n",
    "curconv(currencyCode,amountToConvert)"
   ]
  },
  {
   "cell_type": "markdown",
   "id": "4306ab77",
   "metadata": {},
   "source": [
    "### ---------------------------------- Question 9 ----------------------------------\n",
    "\n",
    "Each of the following will cause an exception (an error). Identify what type of exception each will cause."
   ]
  },
  {
   "cell_type": "markdown",
   "id": "45139f84",
   "metadata": {},
   "source": [
    "##### Q. Trying to add incompatible variables, as in adding 6 + ‘a’\n",
    "ANSWER = TypeError: unsupported operand type(s) for +: 'int' and 'str'"
   ]
  },
  {
   "cell_type": "markdown",
   "id": "7bb1ba8e",
   "metadata": {},
   "source": [
    "##### Q. Referring to the 12th item of a list that has only 10 items\n",
    "ANSWER = IndexError: list index out of range"
   ]
  },
  {
   "cell_type": "markdown",
   "id": "d23af9fe",
   "metadata": {},
   "source": [
    "##### Q. Using a value that is out of range for a function’s input, such as calling math.sqrt( 1.0)\n",
    "ANSWER = ValueError: math domain error\n"
   ]
  },
  {
   "cell_type": "markdown",
   "id": "2cc793c4",
   "metadata": {},
   "source": [
    "##### Q. Using an undeclared variable,  such as print(x) when x has not been defined\n",
    "ANSWER = NameError: name 'x' is not defined\n"
   ]
  },
  {
   "cell_type": "markdown",
   "id": "02aceb2f",
   "metadata": {},
   "source": [
    "##### Q.Trying to open a file that does not exist, such as mistyping the file name or looking in the wrong directory.\n",
    "ANSWER = FileNotFoundError: [Errno 2] No such file or directory: 'currencs.txt'"
   ]
  },
  {
   "cell_type": "markdown",
   "id": "1c91da0d",
   "metadata": {},
   "source": [
    "### ---------------------------------- Question 10 ----------------------------------\n",
    "\n",
    "Encryption is the process of hiding the meaning of a text by substituting letters in the message with other letters, according to some system. If the process is successful, no one but the intended recipient can understand the encrypted message. Cryptanalysis refers to attempts to undo the encryption, even if some details of the encryption are unknown (for example, if an encrypted message has been intercepted). The first step of cryptanalysis is often to build up a table of letter frequencies in the encrypted text. Assume that the string letters is already defined as 'abcdefghijklmnopqrstuvwxyz'. Write a function called frequencies() that takes a string as its only parameter, and returns a list of integers, showing the number of times each character appears in the text. Your function may ignore any characters that are not in letters."
   ]
  },
  {
   "cell_type": "code",
   "execution_count": 18,
   "id": "740f392a",
   "metadata": {},
   "outputs": [
    {
     "name": "stdout",
     "output_type": "stream",
     "text": [
      "String given to encrypt: 'The quick red fox got bored and went home.'\n",
      "Encrypted Output: [1, 1, 1, 3, 5, 1, 1, 2, 1, 0, 1, 0, 1, 2, 4, 0, 1, 2, 0, 2, 1, 0, 1, 1, 0, 0]\n",
      "Enter the word to be encrypted: Anuj will submit the assignment at 5pm\n",
      "Encrypted Output: [2, 1, 0, 0, 2, 0, 1, 1, 3, 1, 0, 2, 3, 3, 0, 1, 0, 0, 3, 4, 2, 0, 1, 0, 0, 0]\n"
     ]
    }
   ],
   "source": [
    "def frequencies(wordToEncrypt):\n",
    "    letters = 'abcdefghijklmnopqrstuvwxyz'\n",
    "    encryptedOutput = []\n",
    "    for i in letters:\n",
    "        encryptedOutput.append(wordToEncrypt.count(i))\n",
    "    print(\"Encrypted Output:\", encryptedOutput)\n",
    "        \n",
    "print(\"String given to encrypt: 'The quick red fox got bored and went home.'\")\n",
    "frequencies('The quick red fox got bored and went home.')\n",
    "wordToEncrypt = input(\"Enter the word to be encrypted: \")\n",
    "frequencies(wordToEncrypt)\n"
   ]
  }
 ],
 "metadata": {
  "kernelspec": {
   "display_name": "Python 3 (ipykernel)",
   "language": "python",
   "name": "python3"
  },
  "language_info": {
   "codemirror_mode": {
    "name": "ipython",
    "version": 3
   },
   "file_extension": ".py",
   "mimetype": "text/x-python",
   "name": "python",
   "nbconvert_exporter": "python",
   "pygments_lexer": "ipython3",
   "version": "3.9.13"
  }
 },
 "nbformat": 4,
 "nbformat_minor": 5
}
